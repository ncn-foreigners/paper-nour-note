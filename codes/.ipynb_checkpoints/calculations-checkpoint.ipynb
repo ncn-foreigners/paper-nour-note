{
 "cells": [
  {
   "cell_type": "markdown",
   "metadata": {},
   "source": [
    "## Reproduce results"
   ]
  },
  {
   "cell_type": "markdown",
   "metadata": {},
   "source": [
    "Load packages"
   ]
  },
  {
   "cell_type": "code",
   "execution_count": null,
   "metadata": {},
   "outputs": [],
   "source": [
    "using Random\n",
    "using DataFrames\n",
    "using Distributions\n",
    "using Plots\n",
    "using Statistics\n",
    "using Latexify\n",
    "using LaTeXStrings\n",
    "using Measures"
   ]
  },
  {
   "cell_type": "markdown",
   "metadata": {},
   "source": [
    "Load functions"
   ]
  },
  {
   "cell_type": "code",
   "execution_count": null,
   "metadata": {
    "scrolled": true
   },
   "outputs": [],
   "source": [
    "include(\"functions.jl\")"
   ]
  },
  {
   "cell_type": "markdown",
   "metadata": {},
   "source": [
    "## Assumptions"
   ]
  },
  {
   "cell_type": "markdown",
   "metadata": {},
   "source": [
    "#### Table 1 -- assumptions"
   ]
  },
  {
   "cell_type": "markdown",
   "metadata": {},
   "source": [
    "Numerical integration steps"
   ]
  },
  {
   "cell_type": "code",
   "execution_count": null,
   "metadata": {},
   "outputs": [],
   "source": [
    "step = .005\n",
    "step_start = 0\n",
    "α_range = step:step:(1-step)\n",
    "p₁_range = (step_start+step):step/2:(1 - step)\n",
    "p₂_range = (step_start+step):step/2:(1 - step)"
   ]
  },
  {
   "cell_type": "markdown",
   "metadata": {},
   "source": [
    "Positive case"
   ]
  },
  {
   "cell_type": "code",
   "execution_count": null,
   "metadata": {},
   "outputs": [],
   "source": [
    "A1 = Bool[]\n",
    "A2 = Bool[]\n",
    "A3 = Bool[]\n",
    "A4 = Bool[]\n",
    "\n",
    "for α in α_range\n",
    "    for p₁ in p₁_range\n",
    "        for p₂ in p₂_range\n",
    "            p₁₁ = α * p₁ + (1 - α) * p₁ * p₂\n",
    "            p₁₀ = (1 - α) * p₁ * (1 - p₂)\n",
    "            p₀₁ = (1 - α) * (1 - p₁) * p₂\n",
    "            p₀₀ = α * (1 - p₁) + (1 - α) * (1 - p₁)* (1 - p₂)\n",
    "            \n",
    "            append!(A1, (p₁₁ + p₁₀ > .5) && (p₁₁ + p₀₁ > .5))\n",
    "            append!(A2, (p₁₀ * p₀₁ / p₀₀) ^ 2 > p₁₀ * p₀₁) # This is equivalent to upper bound estimator\n",
    "            append!(A3, 2 * p₁₁ * p₁₀ * p₀₁ / (p₁₀ * p₀₁ + p₁₁ ^ 2) <= p₀₀)\n",
    "            append!(A4, 2 * p₁₁ * p₁₀ * p₀₁ / (p₁₀ * p₀₁ + p₁₁ ^ 2) <= p₀₀ <= sqrt((p₁₀ + p₁₁) * (p₁₁ * p₀₁)))\n",
    "        end\n",
    "    end\n",
    "end"
   ]
  },
  {
   "cell_type": "code",
   "execution_count": null,
   "metadata": {},
   "outputs": [],
   "source": [
    "round.(\n",
    "    [mean(A1), mean(A2), mean(A3), \n",
    "     mean(A2[A1]), \n",
    "     mean(A3[A1]), mean(A3[A2]),  \n",
    "     mean(A3[A1] .&& A2[A1]), \n",
    "    ], digits=4) "
   ]
  },
  {
   "cell_type": "markdown",
   "metadata": {},
   "source": [
    "Negative case"
   ]
  },
  {
   "cell_type": "code",
   "execution_count": null,
   "metadata": {},
   "outputs": [],
   "source": [
    "A1 = Bool[]\n",
    "A2 = Bool[]\n",
    "A3 = Bool[]\n",
    "A4 = Bool[]\n",
    "for α in α_range\n",
    "    for p₁ in p₁_range\n",
    "        for p₂ in p₂_range\n",
    "            p₁₁ = (1 - α) * p₁ * p₂\n",
    "            p₁₀ = α * p₁ + (1 - α) * p₁ * (1 - p₂)\n",
    "            p₀₁ = α * (1 - p₁) + (1 - α) * (1 - p₁) * p₂\n",
    "            p₀₀ = (1 - α) * (1 - p₁) * (1 - p₂)\n",
    "            append!(A1, (p₁₁ + p₁₀ < .5) && (p₁₁ + p₀₁ < .5))\n",
    "            append!(A2, (p₁₀ * p₀₁ / p₀₀) ^ 2 > p₁₀ * p₀₁) # This is equivalent to upper bound estimator\n",
    "            append!(A3, 2 * p₁₁ * p₁₀ * p₀₁ / (p₁₀ * p₀₁ + p₁₁ ^ 2) <= p₀₀)\n",
    "            append!(A4, 2 * p₁₁ * p₁₀ * p₀₁ / (p₁₀ * p₀₁ + p₁₁ ^ 2) <= p₀₀ <= sqrt((p₁₀ + p₁₁) * (p₁₁ * p₀₁)))\n",
    "        end\n",
    "    end\n",
    "end"
   ]
  },
  {
   "cell_type": "code",
   "execution_count": null,
   "metadata": {},
   "outputs": [],
   "source": [
    "round.(\n",
    "    [mean(A1), mean(A2), mean(A3), \n",
    "     mean(A2[A1]), \n",
    "     mean(A3[A1]), mean(A3[A2]),  \n",
    "     mean(A3[A1] .&& A2[A1]), \n",
    "    ], digits=4)"
   ]
  },
  {
   "cell_type": "markdown",
   "metadata": {},
   "source": [
    "## Simulation study"
   ]
  },
  {
   "cell_type": "markdown",
   "metadata": {},
   "source": [
    "Assumptions met"
   ]
  },
  {
   "cell_type": "code",
   "execution_count": null,
   "metadata": {},
   "outputs": [],
   "source": [
    "vcat(\n",
    "    sim_study(1_000, 0.45, 0.35, 0.30),\n",
    "    sim_study(1_000, 0.45, 0.45, 0.0005),\n",
    "    sim_study(1_000, 0.35, 0.35, 0.225),\n",
    "    sim_study(1_000, 0.15, 0.15, 0.05)\n",
    ") .|> (x -> round(x, digits=1)) |> (x -> latexify(x, env=:table))"
   ]
  },
  {
   "cell_type": "markdown",
   "metadata": {},
   "source": [
    "Bias derived by Nour"
   ]
  },
  {
   "cell_type": "code",
   "execution_count": null,
   "metadata": {},
   "outputs": [],
   "source": [
    "[sim_study(1_000, 0.45, 0.35, 0.30, 100_000, \"Nour\")[1,3],\n",
    " sim_study(1_000, 0.45, 0.45, 0.0005, 100_000, \"Nour\")[1,3],\n",
    " sim_study(1_000, 0.35, 0.35, 0.225, 100_000, \"Nour\")[1,3],\n",
    " sim_study(1_000, 0.15, 0.15, 0.05, 100_000, \"Nour\")[1,3]] .|>\n",
    "(x -> round(x, digits = 1))"
   ]
  },
  {
   "cell_type": "markdown",
   "metadata": {},
   "source": [
    "Assumptions not met"
   ]
  },
  {
   "cell_type": "code",
   "execution_count": null,
   "metadata": {},
   "outputs": [],
   "source": [
    "vcat(\n",
    "    sim_study(1_000, 0.50, 0.50, 0.2),\n",
    "    sim_study(1_000, 0.55, 0.65, 0.2)\n",
    ") .|> (x -> round(x, digits=1)) |> (x -> latexify(x, env=:table))"
   ]
  },
  {
   "cell_type": "markdown",
   "metadata": {},
   "source": [
    "Bias derived by Nour"
   ]
  },
  {
   "cell_type": "code",
   "execution_count": null,
   "metadata": {},
   "outputs": [],
   "source": [
    "[sim_study(1_000, 0.50, 0.50, 0.2, 100_000, \"Nour\")[1,3],\n",
    " sim_study(1_000, 0.55, 0.65, 0.2, 100_000, \"Nour\")[1,3]] .|>\n",
    "(x -> round(x, digits = 1))"
   ]
  },
  {
   "cell_type": "markdown",
   "metadata": {},
   "source": [
    "Contour plots"
   ]
  },
  {
   "cell_type": "code",
   "execution_count": null,
   "metadata": {},
   "outputs": [],
   "source": [
    "N = 1_000\n",
    "alpha = range(0.01, 0.45, length = 50)\n",
    "p1 = range(0.05, 0.45, length = 50)\n",
    "p2 = 0.35\n",
    "bias = zeros(50,50)\n",
    "for i in 1:50\n",
    "    for j in 1:50\n",
    "        bias[i,j] = bias_approximation(N = N, p₁ = p1[i], p₂ = p2, α = alpha[j], \n",
    "                                       dependence = \"-\", bias_type = \"New\")[1]/N*100\n",
    "    end\n",
    "end\n",
    "\n",
    "plot1=contourf(p1, alpha, bias, levels = 15, color = :grays, dpi=300, titlefontsize=10)\n",
    "xlabel!(plot1,L\"p_1\")\n",
    "ylabel!(plot1,L\"\\alpha\")\n",
    "display(plot1)"
   ]
  },
  {
   "cell_type": "code",
   "execution_count": null,
   "metadata": {},
   "outputs": [],
   "source": [
    "N = 1_000\n",
    "alpha = 0.15\n",
    "p1 = range(0.05, 0.45, length = 50)\n",
    "p2 = range(0.05, 0.45, length = 50)\n",
    "bias = zeros(50,50)\n",
    "for i in 1:50\n",
    "    for j in 1:50\n",
    "        bias[i,j] = bias_approximation(N = N, p₁ = p1[i], p₂ = p2[j], α = alpha, \n",
    "                                       dependence = \"-\", bias_type = \"New\")[1]/N*100\n",
    "    end\n",
    "end\n",
    "\n",
    "plot2=contourf(p1, p2, bias, levels = 15, color = :grays, dpi=300, \n",
    "    titlefontsize=10)\n",
    "xlabel!(plot2,L\"p_1\")\n",
    "ylabel!(plot2,L\"p_2\")"
   ]
  },
  {
   "cell_type": "code",
   "execution_count": null,
   "metadata": {
    "scrolled": true
   },
   "outputs": [],
   "source": [
    "plot_full = plot(plot1, plot2)\n",
    "savefig(plot_full, \"../figures/plot.png\")\n",
    "savefig(plot_full, \"../figures/plot.pdf\")"
   ]
  },
  {
   "cell_type": "markdown",
   "metadata": {},
   "source": [
    "Example from Table 1"
   ]
  },
  {
   "cell_type": "code",
   "execution_count": null,
   "metadata": {},
   "outputs": [],
   "source": [
    "n = [534, 2_584,  3_780]\n",
    "n_obs = sum(n)\n",
    "n_00_lb = 2*n[2]*n[3]*n[1]/(n[2]*n[3]+n[1]^2)\n",
    "n_00_up = sqrt(n[2]*n[3])\n",
    "N_est_lb = n_obs + n_00_lb \n",
    "N_est_up = n_obs + n_00_up\n",
    "N_var_lb = variance_estimation(N_est=N_est_lb, n₁₁=n[1],  n₁₀=n[2], n₀₁=n[3])[1]\n",
    "N_var_up = variance_estimation(N_est=N_est_up, n₁₁=n[1],  n₁₀=n[2], n₀₁=n[3])[1]\n",
    "N_naive = (n[1]+n[2])*(n[1]+n[3])/n[1]\n",
    "\n",
    "Int.(round.([n_obs, n_00_lb, n_00_up, N_est_lb, N_var_lb, N_est_up, N_var_up,  N_naive]))' |> \n",
    " (x -> latexify(x, env=:table))"
   ]
  }
 ],
 "metadata": {
  "kernelspec": {
   "display_name": "Julia 1.9 (4 threads) 1.9.0-rc1",
   "language": "julia",
   "name": "julia-1.9-_4-threads_-1.9"
  },
  "language_info": {
   "file_extension": ".jl",
   "mimetype": "application/julia",
   "name": "julia",
   "version": "1.9.2"
  }
 },
 "nbformat": 4,
 "nbformat_minor": 4
}
