{
 "cells": [
  {
   "cell_type": "markdown",
   "metadata": {},
   "source": [
    "## Reproduce results"
   ]
  },
  {
   "cell_type": "markdown",
   "metadata": {},
   "source": [
    "Load packages"
   ]
  },
  {
   "cell_type": "code",
   "execution_count": 6,
   "metadata": {},
   "outputs": [],
   "source": [
    "using Random\n",
    "using DataFrames\n",
    "using Distributions\n",
    "using Plots\n",
    "using Statistics"
   ]
  },
  {
   "cell_type": "markdown",
   "metadata": {},
   "source": [
    "Load functions"
   ]
  },
  {
   "cell_type": "code",
   "execution_count": 241,
   "metadata": {
    "scrolled": true
   },
   "outputs": [
    {
     "data": {
      "text/plain": [
       "sim_study (generic function with 1 method)"
      ]
     },
     "execution_count": 241,
     "metadata": {},
     "output_type": "execute_result"
    }
   ],
   "source": [
    "include(\"functions.jl\")"
   ]
  },
  {
   "cell_type": "markdown",
   "metadata": {},
   "source": [
    "## Assumptions"
   ]
  },
  {
   "cell_type": "markdown",
   "metadata": {},
   "source": [
    "#### Table 1 -- assumptions"
   ]
  },
  {
   "cell_type": "markdown",
   "metadata": {},
   "source": [
    "Numerical integration steps"
   ]
  },
  {
   "cell_type": "code",
   "execution_count": 135,
   "metadata": {},
   "outputs": [
    {
     "data": {
      "text/plain": [
       "0.505:0.0025:0.995"
      ]
     },
     "execution_count": 135,
     "metadata": {},
     "output_type": "execute_result"
    }
   ],
   "source": [
    "step = .005\n",
    "step_start = 0.5\n",
    "α_range = step:step:(1-step)\n",
    "p₁_range = (step_start+step):step/2:(1 - step)\n",
    "p₂_range = (step_start+step):step/2:(1 - step)"
   ]
  },
  {
   "cell_type": "markdown",
   "metadata": {},
   "source": [
    "Positive case"
   ]
  },
  {
   "cell_type": "code",
   "execution_count": 136,
   "metadata": {},
   "outputs": [],
   "source": [
    "A1 = Bool[]\n",
    "A2 = Bool[]\n",
    "A3 = Bool[]\n",
    "A4 = Bool[]\n",
    "\n",
    "for α in α_range\n",
    "    for p₁ in p₁_range\n",
    "        for p₂ in p₂_range\n",
    "            p₁₁ = α * p₁ + (1 - α) * p₁ * p₂\n",
    "            p₁₀ = (1 - α) * p₁ * (1 - p₂)\n",
    "            p₀₁ = (1 - α) * (1 - p₁) * p₂\n",
    "            p₀₀ = α * (1 - p₁) + (1 - α) * (1 - p₁)* (1 - p₂)\n",
    "            \n",
    "            append!(A1, (p₁₁ + p₁₀ > .5) && (p₁₁ + p₀₁ > .5))\n",
    "            append!(A2, (p₁₀ * p₀₁ / p₀₀) ^ 2 > p₁₀ * p₀₁) # This is equivalent to upper bound estimator\n",
    "            append!(A3, 2 * p₁₁ * p₁₀ * p₀₁ / (p₁₀ * p₀₁ + p₁₁ ^ 2) <= p₀₀)\n",
    "            append!(A4, 2 * p₁₁ * p₁₀ * p₀₁ / (p₁₀ * p₀₁ + p₁₁ ^ 2) <= p₀₀ <= sqrt((p₁₀ + p₁₁) * (p₁₁ * p₀₁)))\n",
    "        end\n",
    "    end\n",
    "end"
   ]
  },
  {
   "cell_type": "code",
   "execution_count": 137,
   "metadata": {},
   "outputs": [
    {
     "data": {
      "text/plain": [
       "7-element Vector{Float64}:\n",
       " 1.0\n",
       " 0.3358\n",
       " 0.9001\n",
       " 0.3358\n",
       " 0.9001\n",
       " 0.7026\n",
       " 0.2359"
      ]
     },
     "execution_count": 137,
     "metadata": {},
     "output_type": "execute_result"
    }
   ],
   "source": [
    "round.(\n",
    "    [mean(A1), mean(A2), mean(A3), \n",
    "     mean(A2[A1]), \n",
    "     mean(A3[A1]), mean(A3[A2]),  \n",
    "     mean(A3[A1] .&& A2[A1]), \n",
    "    ], digits=4)"
   ]
  },
  {
   "cell_type": "markdown",
   "metadata": {},
   "source": [
    "Negative case"
   ]
  },
  {
   "cell_type": "code",
   "execution_count": 152,
   "metadata": {},
   "outputs": [
    {
     "data": {
      "text/plain": [
       "0.005:0.0025:0.495"
      ]
     },
     "execution_count": 152,
     "metadata": {},
     "output_type": "execute_result"
    }
   ],
   "source": [
    "step = .005\n",
    "step_end = 0.5\n",
    "α_range = step:step:(1-step)\n",
    "p₁_range = step:step/2:(step_end-step)\n",
    "p₂_range = step:step/2:(step_end-step)"
   ]
  },
  {
   "cell_type": "code",
   "execution_count": 153,
   "metadata": {},
   "outputs": [],
   "source": [
    "A1 = Bool[]\n",
    "A2 = Bool[]\n",
    "A3 = Bool[]\n",
    "A4 = Bool[]\n",
    "for α in α_range\n",
    "    for p₁ in p₁_range\n",
    "        for p₂ in p₂_range\n",
    "            p₁₁ = (1 - α) * p₁ * p₂\n",
    "            p₁₀ = α * p₁ + (1 - α) * p₁ * (1 - p₂)\n",
    "            p₀₁ = α * (1 - p₁) + (1 - α) * (1 - p₁) * p₂\n",
    "            p₀₀ = (1 - α) * (1 - p₁) * (1 - p₂)\n",
    "            append!(A1, (p₁₁ + p₁₀ < .5) && (p₁₁ + p₀₁ < .5))\n",
    "            append!(A2, (p₁₀ * p₀₁ / p₀₀) ^ 2 > p₁₀ * p₀₁) # This is equivalent to upper bound estimator\n",
    "            append!(A3, 2 * p₁₁ * p₁₀ * p₀₁ / (p₁₀ * p₀₁ + p₁₁ ^ 2) <= p₀₀)\n",
    "            append!(A4, 2 * p₁₁ * p₁₀ * p₀₁ / (p₁₀ * p₀₁ + p₁₁ ^ 2) <= p₀₀ <= sqrt((p₁₀ + p₁₁) * (p₁₁ * p₀₁)))\n",
    "        end\n",
    "    end\n",
    "end"
   ]
  },
  {
   "cell_type": "code",
   "execution_count": 154,
   "metadata": {},
   "outputs": [
    {
     "data": {
      "text/plain": [
       "7-element Vector{Float64}:\n",
       " 0.4999\n",
       " 0.5331\n",
       " 0.9613\n",
       " 0.3153\n",
       " 0.971\n",
       " 0.9275\n",
       " 0.2863"
      ]
     },
     "execution_count": 154,
     "metadata": {},
     "output_type": "execute_result"
    }
   ],
   "source": [
    "round.(\n",
    "    [mean(A1), mean(A2), mean(A3), \n",
    "     mean(A2[A1]), \n",
    "     mean(A3[A1]), mean(A3[A2]),  \n",
    "     mean(A3[A1] .&& A2[A1]), \n",
    "    ], digits=4)"
   ]
  },
  {
   "cell_type": "markdown",
   "metadata": {},
   "source": [
    "## Simulation study"
   ]
  },
  {
   "cell_type": "markdown",
   "metadata": {},
   "source": [
    "Assumptions met"
   ]
  },
  {
   "cell_type": "code",
   "execution_count": 255,
   "metadata": {},
   "outputs": [
    {
     "data": {
      "text/plain": [
       "12×4 Matrix{Float64}:\n",
       "  -55.0  421.8   -53.4  468.0\n",
       "    6.0  329.6     7.6  355.9\n",
       "   67.1  397.1    68.6  405.4\n",
       "  -60.0  369.0   -59.9  386.6\n",
       "  -57.0  380.6   -57.4  400.6\n",
       "  -54.0  401.9   -55.0  423.2\n",
       " -154.7  454.7  -156.4  503.7\n",
       "  -96.9  378.0   -98.6  413.1\n",
       "  -39.2  442.5   -40.9  470.2\n",
       " -645.0  362.9  -644.5  346.1\n",
       " -593.2  408.4  -593.0  373.7\n",
       " -541.3  528.6  -541.6  466.4"
      ]
     },
     "execution_count": 255,
     "metadata": {},
     "output_type": "execute_result"
    }
   ],
   "source": [
    "vcat(\n",
    "    sim_study(1_000,0.45, 0.35, 0.30),\n",
    "    sim_study(1_000, 0.45, 0.45, 0.0005),\n",
    "    sim_study(1_000, 0.35, 0.35, 0.225),\n",
    "    sim_study(1_000, 0.15, 0.15, 0.05)\n",
    ") .|> (x -> round(x, digits=1))"
   ]
  },
  {
   "cell_type": "code",
   "execution_count": 256,
   "metadata": {},
   "outputs": [
    {
     "data": {
      "text/plain": [
       "6×4 Matrix{Float64}:\n",
       " 117.5  323.6  118.5  318.6\n",
       " 120.1  293.4  120.9  286.0\n",
       " 122.7  268.6  123.2  260.6\n",
       " 165.1  217.7  166.1  238.9\n",
       " 165.5  220.0  166.2  241.5\n",
       " 166.0  223.0  166.2  245.3"
      ]
     },
     "execution_count": 256,
     "metadata": {},
     "output_type": "execute_result"
    }
   ],
   "source": [
    "vcat(\n",
    "    sim_study(1_000, 0.55, 0.65, 0.1),\n",
    "    sim_study(1_000, 0.55, 0.65, 0.2)\n",
    ")  .|> (x -> round(x, digits=1))"
   ]
  }
 ],
 "metadata": {
  "kernelspec": {
   "display_name": "Julia 1.9 (4 threads) 1.9.0-rc1",
   "language": "julia",
   "name": "julia-1.9-_4-threads_-1.9"
  },
  "language_info": {
   "file_extension": ".jl",
   "mimetype": "application/julia",
   "name": "julia",
   "version": "1.9.0"
  }
 },
 "nbformat": 4,
 "nbformat_minor": 4
}
